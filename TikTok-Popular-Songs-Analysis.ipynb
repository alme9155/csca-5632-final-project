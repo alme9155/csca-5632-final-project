{
 "cells": [
  {
   "cell_type": "markdown",
   "id": "3076d804",
   "metadata": {
    "papermill": {
     "duration": 0.001961,
     "end_time": "2025-04-27T08:24:15.298545",
     "exception": false,
     "start_time": "2025-04-27T08:24:15.296584",
     "status": "completed"
    },
    "tags": []
   },
   "source": [
    "<h1>TikTok Popular Songs Analysis</h1>\n",
    "<h2>Project Description</h2>\n",
    "<p>This is final project of CSCA-5632 Unsupervised Learning</p>"
   ]
  },
  {
   "cell_type": "code",
   "execution_count": 1,
   "id": "28db3e42",
   "metadata": {
    "_cell_guid": "b1076dfc-b9ad-4769-8c92-a6c4dae69d19",
    "_uuid": "8f2839f25d086af736a60e9eeb907d3b93b6e0e5",
    "execution": {
     "iopub.execute_input": "2025-04-27T08:24:15.302976Z",
     "iopub.status.busy": "2025-04-27T08:24:15.302638Z",
     "iopub.status.idle": "2025-04-27T08:24:17.418141Z",
     "shell.execute_reply": "2025-04-27T08:24:17.417003Z"
    },
    "papermill": {
     "duration": 2.12074,
     "end_time": "2025-04-27T08:24:17.420884",
     "exception": false,
     "start_time": "2025-04-27T08:24:15.300144",
     "status": "completed"
    },
    "tags": []
   },
   "outputs": [
    {
     "name": "stdout",
     "output_type": "stream",
     "text": [
      "/kaggle/input/tiktok-popular-songs-2022/TikTok_songs_2022.csv\n"
     ]
    }
   ],
   "source": [
    "# This Python 3 environment comes with many helpful analytics libraries installed\n",
    "# It is defined by the kaggle/python Docker image: https://github.com/kaggle/docker-python\n",
    "# For example, here's several helpful packages to load\n",
    "\n",
    "import numpy as np # linear algebra\n",
    "import pandas as pd # data processing, CSV file I/O (e.g. pd.read_csv)\n",
    "\n",
    "# Input data files are available in the read-only \"../input/\" directory\n",
    "# For example, running this (by clicking run or pressing Shift+Enter) will list all files under the input directory\n",
    "\n",
    "import os\n",
    "for dirname, _, filenames in os.walk('/kaggle/input'):\n",
    "    for filename in filenames:\n",
    "        print(os.path.join(dirname, filename))\n",
    "\n",
    "# You can write up to 20GB to the current directory (/kaggle/working/) that gets preserved as output when you create a version using \"Save & Run All\" \n",
    "# You can also write temporary files to /kaggle/temp/, but they won't be saved outside of the current session"
   ]
  }
 ],
 "metadata": {
  "kaggle": {
   "accelerator": "none",
   "dataSources": [
    {
     "datasetId": 2427662,
     "sourceId": 4105973,
     "sourceType": "datasetVersion"
    }
   ],
   "isGpuEnabled": false,
   "isInternetEnabled": true,
   "language": "python",
   "sourceType": "notebook"
  },
  "kernelspec": {
   "display_name": "Python 3",
   "language": "python",
   "name": "python3"
  },
  "language_info": {
   "codemirror_mode": {
    "name": "ipython",
    "version": 3
   },
   "file_extension": ".py",
   "mimetype": "text/x-python",
   "name": "python",
   "nbconvert_exporter": "python",
   "pygments_lexer": "ipython3",
   "version": "3.11.11"
  },
  "papermill": {
   "default_parameters": {},
   "duration": 8.028522,
   "end_time": "2025-04-27T08:24:18.048129",
   "environment_variables": {},
   "exception": null,
   "input_path": "__notebook__.ipynb",
   "output_path": "__notebook__.ipynb",
   "parameters": {},
   "start_time": "2025-04-27T08:24:10.019607",
   "version": "2.6.0"
  }
 },
 "nbformat": 4,
 "nbformat_minor": 5
}
