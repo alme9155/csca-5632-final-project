{
 "cells": [
  {
   "cell_type": "markdown",
   "id": "c43f1b59",
   "metadata": {
    "papermill": {
     "duration": 0.002142,
     "end_time": "2025-04-27T22:12:45.007955",
     "exception": false,
     "start_time": "2025-04-27T22:12:45.005813",
     "status": "completed"
    },
    "tags": []
   },
   "source": [
    "<h1>Spotify Popular Songs Analysis</h1>\n",
    "\n",
    "<img src=\"http://storage.googleapis.com/kaggle-datasets-images/2570056/4372070/fe6dd42ee550bd3dcd153e2f97dda840/dataset-cover.jpg\" width=\"400\"  style=\"float: left; margin-right: 15px; margin-bottom: 10px;\" alt=\"(CSCA-5632)\">\n"
   ]
  },
  {
   "cell_type": "markdown",
   "id": "0b6436a1",
   "metadata": {
    "papermill": {
     "duration": 0.001239,
     "end_time": "2025-04-27T22:12:45.010993",
     "exception": false,
     "start_time": "2025-04-27T22:12:45.009754",
     "status": "completed"
    },
    "tags": []
   },
   "source": [
    "CSCA-5632: Unsupervised Learning Final Project<br/>\n",
    "@author: Alexander Meau<br/>\n",
    "@email: alme9155@colorado.edu\n",
    "<hr/>"
   ]
  },
  {
   "cell_type": "markdown",
   "id": "60fefb83",
   "metadata": {
    "papermill": {
     "duration": 0.001184,
     "end_time": "2025-04-27T22:12:45.013748",
     "exception": false,
     "start_time": "2025-04-27T22:12:45.012564",
     "status": "completed"
    },
    "tags": []
   },
   "source": [
    "<h2>Project Description</h2>\n",
    "<p>This is final project of CSCA-5632: Unsupervised Algorithms in Machine Learing.</p>\n",
    "\n",
    "<h3>Project Topic</h3>\n",
    "<h4>Objective:</h4>\n",
    "<p>Use techique of unsupervised learning to understand what features, such as danceability, energy, tempo, etc. will characterize a \"hit\" song. While the definition</p>\n",
    "<ul>\n",
    "<li>Type of Problems:</li>\n",
    "<p>Unsupervised learning (PCA + clustering to discover grouping)\n",
    "</p>\n",
    "    Target groups:\n",
    "\n",
    "        Top 1% = Viral hits\n",
    "\n",
    "        Top 10% = Popular songs\n",
    "</ul>\n",
    "\n",
    "<h4>Objective:</h4>\n",
    "<p>Use unsupervised learning to understand what features, such as danceability, energy, tempo, etc., characterize a \"hit\" song. While the definition of a popular \"hit\" song varies, this study will focus on characteristics that have reached the top 1% and 10% of popularity using the \"Spotify Tracks\" dataset.</p>\n",
    "\n",
    "<h4>Type of Machine Learning Study:</h4>\n",
    "Unsupervised learning (PCA + clustering to discover feature grouping\n",
    "Target groups:\n",
    "<ul>\n",
    "    <li>Top 1% = Viral hits</li>\n",
    "    <li>Top 10% = Popular songs</li>\n",
    "</ul>\n",
    "<h4>Dataset:</h4>\n",
    "<p>Spotify Tracks Dataset from Kaggle (<a url=\"https://www.kaggle.com/datasets/maharshipandya/-spotify-tracks-dataset>\"https://www.kaggle.com/datasets/maharshipandya/-spotify-tracks-dataset</a>). The Spotify dataset contains over one million songs spanning 125 genres. Each entry includes the song's musical features and its popularity score.</p>\n",
    "\n",
    "<h4>Significance:</h4>\n",
    "<p>Studying the Spotify Tracks dataset with unsupervised learning helps us gain deeper insights into what makes music resonate with listeners, independent of human bias or genre labels. Applying unsupervised learning methods (like clustering and dimensionality reduction) allows us to uncover hidden structures and natural groupings within the music landscape without relying on predefined labels.</p>\n",
    "<ul>\n",
    "<li>Identify Patterns:</li>\n",
    "<p>Discover how musical attributes cluster together and what combinations tend to be associated with higher popularity.</p>\n",
    "<li>Understand Hit Songs:</li>\n",
    "<p>Reveal common characteristics shared by top-performing tracks versus less popular ones.</p>\n",
    "<li>Support Future Prediction:</li>\n",
    "<p>Provide a foundation for building supervised models to predict a song's potential popularity based on its features.</p>\n",
    "</ul>\n"
   ]
  },
  {
   "cell_type": "code",
   "execution_count": 1,
   "id": "6e03acba",
   "metadata": {
    "_cell_guid": "b1076dfc-b9ad-4769-8c92-a6c4dae69d19",
    "_uuid": "8f2839f25d086af736a60e9eeb907d3b93b6e0e5",
    "execution": {
     "iopub.execute_input": "2025-04-27T22:12:45.017972Z",
     "iopub.status.busy": "2025-04-27T22:12:45.017616Z",
     "iopub.status.idle": "2025-04-27T22:12:47.090774Z",
     "shell.execute_reply": "2025-04-27T22:12:47.089585Z"
    },
    "papermill": {
     "duration": 2.077295,
     "end_time": "2025-04-27T22:12:47.092384",
     "exception": false,
     "start_time": "2025-04-27T22:12:45.015089",
     "status": "completed"
    },
    "tags": []
   },
   "outputs": [
    {
     "name": "stdout",
     "output_type": "stream",
     "text": [
      "/kaggle/input/-spotify-tracks-dataset/dataset.csv\n"
     ]
    }
   ],
   "source": [
    "# This Python 3 environment comes with many helpful analytics libraries installed\n",
    "# It is defined by the kaggle/python Docker image: https://github.com/kaggle/docker-python\n",
    "# For example, here's several helpful packages to load\n",
    "\n",
    "import numpy as np # linear algebra\n",
    "import pandas as pd # data processing, CSV file I/O (e.g. pd.read_csv)\n",
    "\n",
    "# Input data files are available in the read-only \"../input/\" directory\n",
    "# For example, running this (by clicking run or pressing Shift+Enter) will list all files under the input directory\n",
    "\n",
    "import os\n",
    "for dirname, _, filenames in os.walk('/kaggle/input'):\n",
    "    for filename in filenames:\n",
    "        print(os.path.join(dirname, filename))\n",
    "\n",
    "# You can write up to 20GB to the current directory (/kaggle/working/) that gets preserved as output when you create a version using \"Save & Run All\" \n",
    "# You can also write temporary files to /kaggle/temp/, but they won't be saved outside of the current session"
   ]
  }
 ],
 "metadata": {
  "kaggle": {
   "accelerator": "none",
   "dataSources": [
    {
     "datasetId": 2570056,
     "sourceId": 4372070,
     "sourceType": "datasetVersion"
    }
   ],
   "dockerImageVersionId": 31012,
   "isGpuEnabled": false,
   "isInternetEnabled": true,
   "language": "python",
   "sourceType": "notebook"
  },
  "kernelspec": {
   "display_name": "Python 3",
   "language": "python",
   "name": "python3"
  },
  "language_info": {
   "codemirror_mode": {
    "name": "ipython",
    "version": 3
   },
   "file_extension": ".py",
   "mimetype": "text/x-python",
   "name": "python",
   "nbconvert_exporter": "python",
   "pygments_lexer": "ipython3",
   "version": "3.11.11"
  },
  "papermill": {
   "default_parameters": {},
   "duration": 7.894574,
   "end_time": "2025-04-27T22:12:47.614509",
   "environment_variables": {},
   "exception": null,
   "input_path": "__notebook__.ipynb",
   "output_path": "__notebook__.ipynb",
   "parameters": {},
   "start_time": "2025-04-27T22:12:39.719935",
   "version": "2.6.0"
  }
 },
 "nbformat": 4,
 "nbformat_minor": 5
}
