{
 "cells": [
  {
   "cell_type": "markdown",
   "id": "bd75e388",
   "metadata": {
    "papermill": {
     "duration": 0.004121,
     "end_time": "2025-04-27T22:34:56.426208",
     "exception": false,
     "start_time": "2025-04-27T22:34:56.422087",
     "status": "completed"
    },
    "tags": []
   },
   "source": [
    "<h1>Spotify Popular Songs Analysis</h1>\n",
    "\n",
    "<img src=\"http://storage.googleapis.com/kaggle-datasets-images/2570056/4372070/fe6dd42ee550bd3dcd153e2f97dda840/dataset-cover.jpg\" width=\"400\"  style=\"float: left; margin-right: 15px; margin-bottom: 10px;\" alt=\"(CSCA-5632)\">\n"
   ]
  },
  {
   "cell_type": "markdown",
   "id": "ef95eb5e",
   "metadata": {
    "papermill": {
     "duration": 0.002973,
     "end_time": "2025-04-27T22:34:56.432698",
     "exception": false,
     "start_time": "2025-04-27T22:34:56.429725",
     "status": "completed"
    },
    "tags": []
   },
   "source": [
    "CSCA-5632: Unsupervised Learning Final Project<br/>\n",
    "@author: Alexander Meau<br/>\n",
    "@email: alme9155@colorado.edu\n",
    "<hr/>"
   ]
  },
  {
   "cell_type": "markdown",
   "id": "51dab172",
   "metadata": {
    "papermill": {
     "duration": 0.001696,
     "end_time": "2025-04-27T22:34:56.437820",
     "exception": false,
     "start_time": "2025-04-27T22:34:56.436124",
     "status": "completed"
    },
    "tags": []
   },
   "source": [
    "<h2>I. Project Description</h2>\n",
    "<p>This is final project of CSCA-5632: Unsupervised Algorithms in Machine Learing.</p>\n",
    "<p>Use techique of unsupervised learning to understand what features, such as danceability, energy, tempo, etc. will characterize a \"hit\" song.</p>\n",
    "\n",
    "<h3>Objective:</h3>\n",
    "<p>Use unsupervised learning to understand what features, such as danceability, energy, tempo, etc., characterize a \"hit\" song. While the definition of a popular \"hit\" song varies, this study will focus on characteristics that have reached the top 1% and 10% of popularity using the \"Spotify Tracks\" dataset.</p>\n",
    "\n",
    "<h3>Type of Machine Learning Study:</h3>\n",
    "Unsupervised learning (PCA + clustering to discover feature grouping\n",
    "Target groups:\n",
    "<ul>\n",
    "    <li>Top 1% = Viral hits</li>\n",
    "    <li>Top 10% = Popular songs</li>\n",
    "</ul>\n",
    "<h3>Dataset:</h3>\n",
    "<p>Spotify Tracks Dataset from <a href=\"https://www.kaggle.com/datasets/maharshipandya/-spotify-tracks-dataset\">Kaggle</a>.</p>\n",
    "\n",
    "<h3>Project Significance:</h3>\n",
    "<p>Studying the Spotify Tracks dataset with unsupervised learning helps us gain deeper insights into what makes music resonate with listeners, independent of human bias or genre labels. Applying unsupervised learning methods (like clustering and dimensionality reduction) allows us to uncover hidden structures and natural groupings within the music landscape without relying on predefined labels.</p>\n",
    "<ul>\n",
    "<li>Identify Patterns:</li>\n",
    "<p>Discover how musical attributes cluster together and what combinations tend to be associated with higher popularity.</p>\n",
    "<li>Understand Hit Songs:</li>\n",
    "<p>Reveal common characteristics shared by top-performing tracks versus less popular ones.</p>\n",
    "<li>Support Future Prediction:</li>\n",
    "<p>Provide a foundation for building supervised models to predict a song's potential popularity based on its features.</p>\n",
    "</ul>\n"
   ]
  },
  {
   "cell_type": "code",
   "execution_count": 1,
   "id": "bd7f55e2",
   "metadata": {
    "_cell_guid": "b1076dfc-b9ad-4769-8c92-a6c4dae69d19",
    "_uuid": "8f2839f25d086af736a60e9eeb907d3b93b6e0e5",
    "execution": {
     "iopub.execute_input": "2025-04-27T22:34:56.443510Z",
     "iopub.status.busy": "2025-04-27T22:34:56.443100Z",
     "iopub.status.idle": "2025-04-27T22:34:58.775892Z",
     "shell.execute_reply": "2025-04-27T22:34:58.774764Z"
    },
    "papermill": {
     "duration": 2.33774,
     "end_time": "2025-04-27T22:34:58.777540",
     "exception": false,
     "start_time": "2025-04-27T22:34:56.439800",
     "status": "completed"
    },
    "tags": []
   },
   "outputs": [
    {
     "name": "stdout",
     "output_type": "stream",
     "text": [
      "/kaggle/input/-spotify-tracks-dataset/dataset.csv\n"
     ]
    }
   ],
   "source": [
    "# This Python 3 environment comes with many helpful analytics libraries installed\n",
    "# It is defined by the kaggle/python Docker image: https://github.com/kaggle/docker-python\n",
    "# For example, here's several helpful packages to load\n",
    "\n",
    "import numpy as np # linear algebra\n",
    "import pandas as pd # data processing, CSV file I/O (e.g. pd.read_csv)\n",
    "\n",
    "# Input data files are available in the read-only \"../input/\" directory\n",
    "# For example, running this (by clicking run or pressing Shift+Enter) will list all files under the input directory\n",
    "\n",
    "import os\n",
    "for dirname, _, filenames in os.walk('/kaggle/input'):\n",
    "    for filename in filenames:\n",
    "        print(os.path.join(dirname, filename))\n",
    "\n",
    "# You can write up to 20GB to the current directory (/kaggle/working/) that gets preserved as output when you create a version using \"Save & Run All\" \n",
    "# You can also write temporary files to /kaggle/temp/, but they won't be saved outside of the current session"
   ]
  },
  {
   "cell_type": "markdown",
   "id": "2d3e43d5",
   "metadata": {
    "papermill": {
     "duration": 0.00218,
     "end_time": "2025-04-27T22:34:58.782061",
     "exception": false,
     "start_time": "2025-04-27T22:34:58.779881",
     "status": "completed"
    },
    "tags": []
   },
   "source": [
    "<h2>II. Data:</h2>\n",
    "<p>Spotify Tracks Dataset from Kaggle (<a href=\"https://www.kaggle.com/datasets/maharshipandya/-spotify-tracks-dataset\">https://www.kaggle.com/datasets/maharshipandya/-spotify-tracks-dataset</a>). The Spotify dataset contains over one million songs spanning 125 genres. Each entry includes the song's musical features and its popularity score.</p>\n",
    "\n",
    "<style>\n",
    "  table.dataframe { /* Basic styling similar to pandas output */\n",
    "    border-collapse: collapse;\n",
    "    border: 1px solid #ccc;\n",
    "    margin-bottom: 1em; /* Add some space below the table */\n",
    "  }\n",
    "  table.dataframe th, table.dataframe td {\n",
    "    border: 1px solid #ccc;\n",
    "    padding: 8px 12px;\n",
    "    text-align: left;\n",
    "    vertical-align: top; /* Align text to the top of the cell */\n",
    "  }\n",
    "  table.dataframe th {\n",
    "    background-color: #f2f2f2; /* Light grey header */\n",
    "    font-weight: bold;\n",
    "  }\n",
    "  table.dataframe td code { /* Style the column names */\n",
    "    background-color: #e8e8e8;\n",
    "    padding: 2px 4px;\n",
    "    border-radius: 3px;\n",
    "    font-family: monospace;\n",
    "  }\n",
    "</style>\n",
    "\n",
    "<table class=\"dataframe\">\n",
    "  <thead>\n",
    "    <tr>\n",
    "      <th>Column</th>\n",
    "      <th>Column Description</th>\n",
    "    </tr>\n",
    "  </thead>\n",
    "  <tbody>\n",
    "    <tr>\n",
    "      <td><code>track_id</code></td>\n",
    "      <td>The Spotify ID for the track</td>\n",
    "    </tr>\n",
    "    <tr>\n",
    "      <td><code>artists</code></td>\n",
    "      <td>The artists' names who performed the track. If there is more than one artist, they are separated by a ;</td>\n",
    "    </tr>\n",
    "    <tr>\n",
    "      <td><code>album_name</code></td>\n",
    "      <td>The album name in which the track appears</td>\n",
    "    </tr>\n",
    "    <tr>\n",
    "      <td><code>track_name</code></td>\n",
    "      <td>Name of the track</td>\n",
    "    </tr>\n",
    "    <tr>\n",
    "      <td><code>popularity</code></td>\n",
    "      <td>The popularity of a track is a value between 0 and 100, with 100 being the most popular. The popularity is calculated by algorithm and is based, in the most part, on the total number of plays the track has had and how recent those plays are. Generally speaking, songs that are being played a lot now will have a higher popularity than songs that were played a lot in the past. Duplicate tracks (e.g. the same track from a single and an album) are rated independently. Artist and album popularity is derived mathematically from track popularity.</td>\n",
    "    </tr>\n",
    "    <tr>\n",
    "      <td><code>duration_ms</code></td>\n",
    "      <td>The track length in milliseconds</td>\n",
    "    </tr>\n",
    "    <tr>\n",
    "      <td><code>explicit</code></td>\n",
    "      <td>Whether or not the track has explicit lyrics (true = yes it does; false = no it does not OR unknown)</td>\n",
    "    </tr>\n",
    "    <tr>\n",
    "      <td><code>danceability</code></td>\n",
    "      <td>Danceability describes how suitable a track is for dancing based on a combination of musical elements including tempo, rhythm stability, beat strength, and overall regularity. A value of 0.0 is least danceable and 1.0 is most danceable</td>\n",
    "    </tr>\n",
    "    <tr>\n",
    "      <td><code>energy</code></td>\n",
    "      <td>Energy is a measure from 0.0 to 1.0 and represents a perceptual measure of intensity and activity. Typically, energetic tracks feel fast, loud, and noisy. For example, death metal has high energy, while a Bach prelude scores low on the scale</td>\n",
    "    </tr>\n",
    "    <tr>\n",
    "      <td><code>key</code></td>\n",
    "      <td>The key the track is in. Integers map to pitches using standard Pitch Class notation. E.g. 0 = C, 1 = C♯/D♭, 2 = D, and so on. If no key was detected, the value is -1</td>\n",
    "    </tr>\n",
    "    <tr>\n",
    "      <td><code>loudness</code></td>\n",
    "      <td>The overall loudness of a track in decibels (dB)</td>\n",
    "    </tr>\n",
    "    <tr>\n",
    "      <td><code>mode</code></td>\n",
    "      <td>Mode indicates the modality (major or minor) of a track, the type of scale from which its melodic content is derived. Major is represented by 1 and minor is 0</td>\n",
    "    </tr>\n",
    "    <tr>\n",
    "      <td><code>speechiness</code></td>\n",
    "      <td>Speechiness detects the presence of spoken words in a track. The more exclusively speech-like the recording (e.g. talk show, audio book, poetry), the closer to 1.0 the attribute value. Values above 0.66 describe tracks that are probably made entirely of spoken words. Values between 0.33 and 0.66 describe tracks that may contain both music and speech, either in sections or layered, including such cases as rap music. Values below 0.33 most likely represent music and other non-speech-like tracks</td>\n",
    "    </tr>\n",
    "    <tr>\n",
    "      <td><code>acousticness</code></td>\n",
    "      <td>A confidence measure from 0.0 to 1.0 of whether the track is acoustic. 1.0 represents high confidence the track is acoustic</td>\n",
    "    </tr>\n",
    "    <tr>\n",
    "      <td><code>instrumentalness</code></td>\n",
    "      <td>Predicts whether a track contains no vocals. \"Ooh\" and \"aah\" sounds are treated as instrumental in this context. Rap or spoken word tracks are clearly \"vocal\". The closer the instrumentalness value is to 1.0, the greater likelihood the track contains no vocal content</td>\n",
    "    </tr>\n",
    "    <tr>\n",
    "      <td><code>liveness</code></td>\n",
    "      <td>Detects the presence of an audience in the recording. Higher liveness values represent an increased probability that the track was performed live. A value above 0.8 provides strong likelihood that the track is live</td>\n",
    "    </tr>\n",
    "    <tr>\n",
    "      <td><code>valence</code></td>\n",
    "      <td>A measure from 0.0 to 1.0 describing the musical positiveness conveyed by a track. Tracks with high valence sound more positive (e.g. happy, cheerful, euphoric), while tracks with low valence sound more negative (e.g. sad, depressed, angry)</td>\n",
    "    </tr>\n",
    "    <tr>\n",
    "      <td><code>tempo</code></td>\n",
    "      <td>The overall estimated tempo of a track in beats per minute (BPM). In musical terminology, tempo is the speed or pace of a given piece and derives directly from the average beat duration</td>\n",
    "    </tr>\n",
    "    <tr>\n",
    "      <td><code>time_signature</code></td>\n",
    "      <td>An estimated time signature. The time signature (meter) is a notational convention to specify how many beats are in each bar (or measure). The time signature ranges from 3 to 7 indicating time signatures of 3/4, to 7/4.</td>\n",
    "    </tr>\n",
    "    <tr>\n",
    "      <td><code>track_genre</code></td>\n",
    "      <td>The genre in which the track belongs</td>\n",
    "    </tr>\n",
    "  </tbody>\n",
    "</table>\n"
   ]
  },
  {
   "cell_type": "code",
   "execution_count": null,
   "id": "ebc65de2",
   "metadata": {
    "papermill": {
     "duration": 0.002048,
     "end_time": "2025-04-27T22:34:58.786317",
     "exception": false,
     "start_time": "2025-04-27T22:34:58.784269",
     "status": "completed"
    },
    "tags": []
   },
   "outputs": [],
   "source": []
  }
 ],
 "metadata": {
  "kaggle": {
   "accelerator": "none",
   "dataSources": [
    {
     "datasetId": 2570056,
     "sourceId": 4372070,
     "sourceType": "datasetVersion"
    }
   ],
   "dockerImageVersionId": 31012,
   "isGpuEnabled": false,
   "isInternetEnabled": true,
   "language": "python",
   "sourceType": "notebook"
  },
  "kernelspec": {
   "display_name": "Python 3",
   "language": "python",
   "name": "python3"
  },
  "language_info": {
   "codemirror_mode": {
    "name": "ipython",
    "version": 3
   },
   "file_extension": ".py",
   "mimetype": "text/x-python",
   "name": "python",
   "nbconvert_exporter": "python",
   "pygments_lexer": "ipython3",
   "version": "3.11.11"
  },
  "papermill": {
   "default_parameters": {},
   "duration": 8.465169,
   "end_time": "2025-04-27T22:34:59.410368",
   "environment_variables": {},
   "exception": null,
   "input_path": "__notebook__.ipynb",
   "output_path": "__notebook__.ipynb",
   "parameters": {},
   "start_time": "2025-04-27T22:34:50.945199",
   "version": "2.6.0"
  }
 },
 "nbformat": 4,
 "nbformat_minor": 5
}
